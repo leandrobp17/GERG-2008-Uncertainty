{
 "cells": [
  {
   "cell_type": "markdown",
   "id": "11cdc249-0a6a-4a11-841c-599cd695b695",
   "metadata": {},
   "source": [
    "___\n",
    "# Simulação de Monte Carlo Aplicada a GERG-2008 para a fase vapor"
   ]
  },
  {
   "cell_type": "code",
   "execution_count": 1,
   "id": "1ba3775b-ada4-427e-a515-81884f4ae75c",
   "metadata": {},
   "outputs": [],
   "source": [
    "# Essencials modules\n",
    "from GERG2008rho import GERG2008rho # this function is the GERG-2008 to vapor fase\n",
    "import numpy as np\n",
    "from matplotlib import pyplot as plt\n",
    "import pandas as pd\n",
    "import findK\n",
    "from tqdm import tqdm\n",
    "import time\n",
    "\n",
    "\n",
    "# matplotlib notebook\n",
    "#%matplotlib ipympl\n",
    "%matplotlib qt\n",
    "\n",
    "# figure options\n",
    "plt.rcParams['font.family'] = ['serif']\n",
    "plt.rcParams['font.serif'] = ['Times New Roman']\n",
    "plt.rcParams['figure.autolayout'] = True\n",
    "plt.rcParams['text.usetex'] = True\n",
    "\n",
    "SMALL_SIZE = 14\n",
    "MEDIUM_SIZE = 18\n",
    "BIGGER_SIZE = 22\n",
    "\n",
    "plt.rc('font', size=SMALL_SIZE)          # controls default text sizes\n",
    "plt.rc('axes', titlesize=BIGGER_SIZE)     # fontsize of the axes title\n",
    "plt.rc('axes', labelsize=SMALL_SIZE)    # fontsize of the x and y labels\n",
    "plt.rc('xtick', labelsize=SMALL_SIZE)    # fontsize of the tick labels\n",
    "plt.rc('ytick', labelsize=SMALL_SIZE)    # fontsize of the tick labels\n",
    "plt.rc('legend', fontsize=MEDIUM_SIZE)   # legend fontsize\n",
    "plt.rc('figure', titlesize=BIGGER_SIZE)  # fontsize of the figure title"
   ]
  },
  {
   "cell_type": "markdown",
   "id": "5c1d7b5c-80ef-41c3-9280-9cf95eadf82a",
   "metadata": {},
   "source": [
    "___\n",
    "## Variáveis de entrada\n",
    "\n",
    "* c: Lista contendo a proporção molar de cada componente da mistura. A soma das proporções molares deve ser igual a um, ou seja: \n",
    "\n",
    "    $\\LARGE\\sum_ {i=0} ^ n c_i = 1 $\n",
    "        \n",
    "* T: Temperatura em Kelvin (K)\n",
    "\n",
    "* p: Pressão absoluta em quilopascal (kPa)\n"
   ]
  },
  {
   "cell_type": "code",
   "execution_count": 2,
   "id": "0e360e08-5f79-47fd-a821-0532f4382688",
   "metadata": {},
   "outputs": [],
   "source": [
    "# Molar composition\n",
    "c = np.zeros((2,21))\n",
    "\n",
    "# Multicomponents mixture from Baladão's dissertation.\n",
    "# Mixture N1 → c0\n",
    "c[0][0 ] = 0.34242        # Methane\n",
    "c[0][1 ] = 0.00000        # Nitrogen\n",
    "c[0][2 ] = 0.00000        # CO2\n",
    "c[0][3 ] = 0.31372        # Ethane\n",
    "c[0][4 ] = 0.34386        # Propane\n",
    "c[0][5 ] = 0.00000        # Isobutane\n",
    "c[0][6 ] = 0.00000        # Butane\n",
    "c[0][7 ] = 0.00000        # Isopentane\n",
    "c[0][8 ] = 0.00000        # Pentane\n",
    "c[0][9 ] = 0.00000        # Hexane\n",
    "c[0][10] = 0.00000        # Heptane\n",
    "c[0][11] = 0.00000        # Octane\n",
    "c[0][12] = 0.00000        # Nonane\n",
    "c[0][13] = 0.00000        # Decane\n",
    "c[0][14] = 0.00000        # Hydrogen\n",
    "c[0][15] = 0.00000        # Oxygen\n",
    "c[0][16] = 0.00000        # CO\n",
    "c[0][17] = 0.00000        # Water\n",
    "c[0][18] = 0.00000        # H2S\n",
    "c[0][19] = 0.00000        # Helium\n",
    "c[0][20] = 0.00000        # Argon\n",
    "\n",
    "# Mixture N2 → c1\n",
    "c[1][0 ] = 0.85260        # Methane\n",
    "c[1][1 ] = 0.04840        # Nitrogen\n",
    "c[1][2 ] = 0.00000        # CO2\n",
    "c[1][3 ] = 0.04830        # Ethane\n",
    "c[1][4 ] = 0.05070        # Propane\n",
    "c[1][5 ] = 0.00000        # Isobutane\n",
    "c[1][6 ] = 0.00000        # Butane\n",
    "c[1][7 ] = 0.00000        # Isopentane\n",
    "c[1][8 ] = 0.00000        # Pentane\n",
    "c[1][9 ] = 0.00000        # Hexane\n",
    "c[1][10] = 0.00000        # Heptane\n",
    "c[1][11] = 0.00000        # Octane\n",
    "c[1][12] = 0.00000        # Nonane\n",
    "c[1][13] = 0.00000        # Decane\n",
    "c[1][14] = 0.00000        # Hydrogen\n",
    "c[1][15] = 0.00000        # Oxygen\n",
    "c[1][16] = 0.00000        # CO\n",
    "c[1][17] = 0.00000        # Water\n",
    "c[1][18] = 0.00000        # H2S\n",
    "c[1][19] = 0.00000        # Helium\n",
    "c[1][20] = 0.00000        # Argon"
   ]
  },
  {
   "cell_type": "markdown",
   "id": "79c2545a-a4f1-4ab3-aa2e-83da7ded4f31",
   "metadata": {},
   "source": [
    "___\n",
    "## Range de validade da GERG-2008\n",
    "\n",
    "A GERG-2008 possui um range de validade para temperaturas entre 60 e 700 K e pressão máxima de 70 MPa.\n",
    "___\n",
    "## Método da bisseção\n",
    "\n",
    "Vou utilizar o método da bisseção para obtenção de intervalo de temperaturas no qual as misturas aprensentam a primeira fase líquida.\n",
    "<img src=\"bisection.png\" width=\"400\" style = \"display: block; margin-left: auto; margin-right: auto\">"
   ]
  },
  {
   "cell_type": "raw",
   "id": "f9750d3d-ce3d-4f76-8f4e-e5c0bead2f43",
   "metadata": {
    "tags": []
   },
   "source": [
    "# Pression in kPa\n",
    "p= 130000       \n",
    "\n",
    "# Initial gues for the temperature range\n",
    "interval_T = [[280,200],[220,165]]#,[190,185],[186,182]]\n",
    "\n",
    "#Bissection method\n",
    "for i in range(0,len(c)):\n",
    "    test_c = c[i]\n",
    "   \n",
    "    while interval_T[i][0] - interval_T[i][1] > 0.1:\n",
    "        test_T = (interval_T[i][0]+interval_T[i][1])/2  # pn = (an+bn)/2\n",
    "        s_roots,k=findK.findK(test_c,p,test_T)\n",
    "    \n",
    "        if k > 1:                                       # if   pn → k > 1, an = pn\n",
    "            interval_T[i][1] = test_T\n",
    "\n",
    "        elif k == 1:                                    # elif pn → k = 1, bn = pn\n",
    "            interval_T[i][0] = test_T"
   ]
  },
  {
   "cell_type": "raw",
   "id": "9320c835-bba9-4139-8a25-01d71ac62678",
   "metadata": {
    "tags": []
   },
   "source": [
    "interval_T"
   ]
  },
  {
   "cell_type": "markdown",
   "id": "9cca4c77-88e0-4afc-838c-c53a38737f45",
   "metadata": {},
   "source": [
    "## Monte Carlo para a condição de temperatura de 150°C e pressões de 10, 20, 30, 40, 50, 60 e 70 MPa"
   ]
  },
  {
   "cell_type": "markdown",
   "id": "8b583361-f22e-49ef-b59b-ecaa124db77b",
   "metadata": {},
   "source": [
    "### Cálculo da massa específica na condição padrão de medição 20°C e 101,325 kPa"
   ]
  },
  {
   "cell_type": "code",
   "execution_count": 3,
   "id": "c15a79e2-aa8d-4384-a3cd-6a077a75e615",
   "metadata": {
    "tags": []
   },
   "outputs": [],
   "source": [
    "# Standard condition\n",
    "T_standard = 273.15+20  # Temperature in Kelvin\n",
    "P_standard = 101.325    # Pressure in kPa\n",
    "\n",
    "rho_standard = []\n",
    "\n",
    "# Evaluanting for each mixture\n",
    "for i in range(0,len(c)):\n",
    "    rho_standard.append(GERG2008rho(c[i],P_standard,T_standard))\n"
   ]
  },
  {
   "cell_type": "code",
   "execution_count": 4,
   "id": "d8eb7deb-9a5f-4372-be4e-b296f9bcd45f",
   "metadata": {
    "tags": []
   },
   "outputs": [
    {
     "data": {
      "text/plain": [
       "[0.04189683388202396, 0.04166929098293479]"
      ]
     },
     "execution_count": 4,
     "metadata": {},
     "output_type": "execute_result"
    }
   ],
   "source": [
    "rho_standard"
   ]
  },
  {
   "cell_type": "markdown",
   "id": "56c31bef-3d01-4057-bb0d-2f290a1dcaad",
   "metadata": {
    "tags": []
   },
   "source": [
    "# Condição de Distribuição Normal de 150°C e fixo 10 MPa. Condição 00"
   ]
  },
  {
   "cell_type": "code",
   "execution_count": 5,
   "id": "6ebc946f-bebd-465c-84a1-3cff8090aa2d",
   "metadata": {
    "tags": []
   },
   "outputs": [],
   "source": [
    "T0 = 100+273.15 # Temperature in Kelvin\n",
    "P0 = 10000    # Pressure in kPa\n",
    "# This function evaluating a normal samples of bounds of P and T values\n",
    "sigma = 0.01*T0\n",
    "ns = 100\n",
    "mu = T0\n",
    "\n",
    "samples_n150_10 = (sorted(np.random.normal(mu,sigma,ns).tolist()))"
   ]
  },
  {
   "cell_type": "code",
   "execution_count": 6,
   "id": "4d8cf37b-73b7-4a45-91c2-9a1846f94327",
   "metadata": {
    "tags": []
   },
   "outputs": [
    {
     "name": "stderr",
     "output_type": "stream",
     "text": [
      " 99%|███████████████████████████████████████████████████████████████████████████████████████████████████████████▉ | 99/100 [17:15<00:10, 10.46s/it]\n",
      " 99%|███████████████████████████████████████████████████████████████████████████████████████████████████████████▉ | 99/100 [24:26<00:14, 14.81s/it]\n"
     ]
    }
   ],
   "source": [
    "rho_n150_10 = [[] for _ in range(len(c))]\n",
    "\n",
    "# Evaluanting for each mixture\n",
    "for i in range(0,len(c)):\n",
    "    for j, tempo in zip(range(len(samples_n150_10)), tqdm(range(len(samples_n150_10)))):\n",
    "        rho_n150_10[i].append(GERG2008rho(c[i],P0,samples_n150_10[j]))"
   ]
  },
  {
   "cell_type": "markdown",
   "id": "ea637cd2-9a11-4bba-84a4-3b5c1a2ec58e",
   "metadata": {},
   "source": [
    "Cálculo da incerteza para a condição 00"
   ]
  },
  {
   "cell_type": "code",
   "execution_count": 7,
   "id": "ae600e3c-8091-4a84-a0d7-4b1f0fc1d416",
   "metadata": {
    "tags": []
   },
   "outputs": [],
   "source": [
    "# Evaluating r\n",
    "r_00 = []\n",
    "for i in range(len(rho_standard)):\n",
    "    r_00.append( rho_n150_10[i]/rho_standard[i])\n",
    "\n",
    "# Evaluating u_r\n",
    "ur_00 = []\n",
    "for i in range(0,len(c)):\n",
    "    ur_00.append(np.std(r_00[i]))\n",
    "\n",
    "# Evaluating the uncertaninty portion with 95% confidence\n",
    "u_00 = []\n",
    "for i in range(0,len(c)):\n",
    "    u_00.append(((1.96*np.std(r_00[i]))/np.mean(r_00[i])))"
   ]
  },
  {
   "cell_type": "code",
   "execution_count": 8,
   "id": "c62564e3-0ca2-4229-a72e-5aff82bd746f",
   "metadata": {
    "tags": []
   },
   "outputs": [
    {
     "name": "stdout",
     "output_type": "stream",
     "text": [
      "Incerteza relativa de r00 para c0 = 6.27 %\n",
      "Incerteza relativa de r00 para c1 = 2.72 %\n"
     ]
    }
   ],
   "source": [
    "print('Incerteza relativa de r00 para c0 =', round(u_00[0]*100,2),'%')\n",
    "print('Incerteza relativa de r00 para c1 =', round(u_00[1]*100,2),'%')"
   ]
  },
  {
   "cell_type": "markdown",
   "id": "efd258b2-0b05-4512-847f-d276659e044e",
   "metadata": {},
   "source": [
    "### Condição de Distribuição Normal de 150°C e fixo 20 MPa. Condição 01"
   ]
  },
  {
   "cell_type": "code",
   "execution_count": 9,
   "id": "56dc3808-a6f4-4084-95de-b4dd41ec9ed6",
   "metadata": {
    "tags": []
   },
   "outputs": [],
   "source": [
    "T0 = 100+273.15 # Temperature in Kelvin\n",
    "P1 = 20000    # Pressure in kPa\n",
    "# This function evaluating a normal samples of bounds of P and T values\n",
    "sigma = 0.01*T0\n",
    "ns = 100\n",
    "mu = T0\n",
    "\n",
    "samples_n150_20 = (sorted(np.random.normal(mu,sigma,ns).tolist()))"
   ]
  },
  {
   "cell_type": "code",
   "execution_count": 10,
   "id": "094a5337-efff-4004-9af3-c5d9eb84f5f9",
   "metadata": {
    "tags": []
   },
   "outputs": [
    {
     "name": "stderr",
     "output_type": "stream",
     "text": [
      " 99%|███████████████████████████████████████████████████████████████████████████████████████████████████████████▉ | 99/100 [23:43<00:14, 14.38s/it]\n",
      " 99%|███████████████████████████████████████████████████████████████████████████████████████████████████████████▉ | 99/100 [23:41<00:14, 14.36s/it]\n"
     ]
    }
   ],
   "source": [
    "rho_n150_20 = [[] for _ in range(len(c))]\n",
    "\n",
    "# Evaluanting for each mixture\n",
    "for i in range(0,len(c)):\n",
    "    for j, tempo in zip(range(len(samples_n150_20)), tqdm(range(len(samples_n150_20)))):\n",
    "        rho_n150_20[i].append(GERG2008rho(c[i],P1,samples_n150_20[j]))"
   ]
  },
  {
   "cell_type": "code",
   "execution_count": 11,
   "id": "30c1cae7-7540-404c-90b3-ab69a1b63860",
   "metadata": {
    "tags": []
   },
   "outputs": [],
   "source": [
    "# Evaluating r\n",
    "r_01 = []\n",
    "for i in range(len(rho_standard)):\n",
    "    r_01.append( rho_n150_20[i]/rho_standard[i])\n",
    "\n",
    "# Evaluating u_r\n",
    "ur_01 = []\n",
    "for i in range(0,len(c)):\n",
    "    ur_01.append(np.std(r_01[i]))\n",
    "\n",
    "# Evaluating the uncertaninty portion with 95% confidence\n",
    "u_01 = []\n",
    "for i in range(0,len(c)):\n",
    "    u_01.append(((1.96*np.std(r_01[i]))/np.mean(r_01[i])))"
   ]
  },
  {
   "cell_type": "code",
   "execution_count": 12,
   "id": "2aa07ec8-bf1e-41b3-bfe6-adbaedb74555",
   "metadata": {
    "tags": []
   },
   "outputs": [
    {
     "name": "stdout",
     "output_type": "stream",
     "text": [
      "Incerteza relativa de r01 para c0 = 3.98 %\n",
      "Incerteza relativa de r01 para c1 = 3.04 %\n"
     ]
    }
   ],
   "source": [
    "print('Incerteza relativa de r01 para c0 =', round(u_01[0]*100,2),'%')\n",
    "print('Incerteza relativa de r01 para c1 =', round(u_01[1]*100,2),'%')"
   ]
  },
  {
   "cell_type": "markdown",
   "id": "49cdeec8-b4ac-49d6-8f19-f822c7eaaf7b",
   "metadata": {},
   "source": [
    "### Condição de Distribuição Normal de 150°C e fixo 30 MPa. Condição 02"
   ]
  },
  {
   "cell_type": "code",
   "execution_count": 13,
   "id": "ce8322ef-2c75-42c0-a9e9-0c4915d2d3fd",
   "metadata": {
    "tags": []
   },
   "outputs": [],
   "source": [
    "T0 = 100+273.15 # Temperature in Kelvin\n",
    "P2 = 30000    # Pressure in kPa\n",
    "# This function evaluating a normal samples of bounds of P and T values\n",
    "sigma = 0.01*T0\n",
    "ns = 100\n",
    "mu = T0\n",
    "\n",
    "samples_n150_30 = (sorted(np.random.normal(mu,sigma,ns).tolist()))"
   ]
  },
  {
   "cell_type": "code",
   "execution_count": 14,
   "id": "2736a42f-36d1-4ba8-9811-74ecdca0387f",
   "metadata": {
    "tags": []
   },
   "outputs": [
    {
     "name": "stderr",
     "output_type": "stream",
     "text": [
      " 99%|███████████████████████████████████████████████████████████████████████████████████████████████████████████▉ | 99/100 [23:31<00:14, 14.26s/it]\n",
      " 99%|███████████████████████████████████████████████████████████████████████████████████████████████████████████▉ | 99/100 [23:42<00:14, 14.36s/it]\n"
     ]
    }
   ],
   "source": [
    "rho_n150_30 = [[] for _ in range(len(c))]\n",
    "\n",
    "# Evaluanting for each mixture\n",
    "for i in range(0,len(c)):\n",
    "    for j, tempo in zip(range(len(samples_n150_30)), tqdm(range(len(samples_n150_30)))):\n",
    "        rho_n150_30[i].append(GERG2008rho(c[i],P2,samples_n150_30[j]))"
   ]
  },
  {
   "cell_type": "code",
   "execution_count": 15,
   "id": "5f022287-6989-4235-8259-4e965e05568f",
   "metadata": {
    "tags": []
   },
   "outputs": [],
   "source": [
    "# Evaluating r\n",
    "r_02 = []\n",
    "for i in range(len(rho_standard)):\n",
    "    r_02.append( rho_n150_30[i]/rho_standard[i])\n",
    "\n",
    "# Evaluating u_r\n",
    "ur_02 = []\n",
    "for i in range(0,len(c)):\n",
    "    ur_02.append(np.std(r_02[i]))\n",
    "\n",
    "# Evaluating the uncertaninty portion with 95% confidence\n",
    "u_02 = []\n",
    "for i in range(0,len(c)):\n",
    "    u_02.append(((1.96*np.std(r_02[i]))/np.mean(r_02[i])))"
   ]
  },
  {
   "cell_type": "code",
   "execution_count": 16,
   "id": "cbe1f531-0b5f-4898-bbf7-6be544abaa36",
   "metadata": {
    "tags": []
   },
   "outputs": [
    {
     "name": "stdout",
     "output_type": "stream",
     "text": [
      "Incerteza relativa de r02 para c0 = 2.48 %\n",
      "Incerteza relativa de r02 para c1 = 2.68 %\n"
     ]
    }
   ],
   "source": [
    "print('Incerteza relativa de r02 para c0 =', round(u_02[0]*100,2),'%')\n",
    "print('Incerteza relativa de r02 para c1 =', round(u_02[1]*100,2),'%')"
   ]
  },
  {
   "cell_type": "markdown",
   "id": "cb2f6ee8-8b3b-4053-8c30-35c4de09dd23",
   "metadata": {},
   "source": [
    "### Condição de Distribuição Normal de 4°C e fixo 115 MPa. Condição 03"
   ]
  },
  {
   "cell_type": "code",
   "execution_count": 17,
   "id": "35642821-1196-4df0-bcb4-5fe48e9ff270",
   "metadata": {
    "tags": []
   },
   "outputs": [],
   "source": [
    "T0 = 100+273.15 # Temperature in Kelvin\n",
    "P3 = 40000    # Pressure in kPa\n",
    "# This function evaluating a normal samples of bounds of P and T values\n",
    "sigma = 0.01*T0\n",
    "ns = 100\n",
    "mu = T0\n",
    "\n",
    "samples_n150_40 = (sorted(np.random.normal(mu,sigma,ns).tolist()))"
   ]
  },
  {
   "cell_type": "code",
   "execution_count": 18,
   "id": "da0da594-468a-4fe0-b764-0c632528c279",
   "metadata": {
    "tags": []
   },
   "outputs": [
    {
     "name": "stderr",
     "output_type": "stream",
     "text": [
      " 99%|███████████████████████████████████████████████████████████████████████████████████████████████████████████▉ | 99/100 [23:51<00:14, 14.46s/it]\n",
      " 99%|███████████████████████████████████████████████████████████████████████████████████████████████████████████▉ | 99/100 [23:37<00:14, 14.32s/it]\n"
     ]
    }
   ],
   "source": [
    "rho_n150_40 = [[] for _ in range(len(c))]\n",
    "\n",
    "# Evaluanting for each mixture\n",
    "for i in range(0,len(c)):\n",
    "    for j, tempo in zip(range(len(samples_n150_40)), tqdm(range(len(samples_n150_40)))):\n",
    "        rho_n150_40[i].append(GERG2008rho(c[i],P3,samples_n150_40[j]))"
   ]
  },
  {
   "cell_type": "code",
   "execution_count": 19,
   "id": "390824e2-b8fe-4787-9875-75ba4f933014",
   "metadata": {
    "tags": []
   },
   "outputs": [],
   "source": [
    "# Evaluating r\n",
    "r_03 = []\n",
    "for i in range(len(rho_standard)):\n",
    "    r_03.append( rho_n150_40[i]/rho_standard[i])\n",
    "\n",
    "# Evaluating u_r\n",
    "ur_03 = []\n",
    "for i in range(0,len(c)):\n",
    "    ur_03.append(np.std(r_03[i]))\n",
    "\n",
    "# Evaluating the uncertaninty portion with 95% confidence\n",
    "u_03 = []\n",
    "for i in range(0,len(c)):\n",
    "    u_03.append(((1.96*np.std(r_03[i]))/np.mean(r_03[i])))"
   ]
  },
  {
   "cell_type": "code",
   "execution_count": 20,
   "id": "2f2688e1-9108-4e61-aef4-2aa17beefc80",
   "metadata": {
    "tags": []
   },
   "outputs": [
    {
     "name": "stdout",
     "output_type": "stream",
     "text": [
      "Incerteza relativa de r03 para c0 = 2.04 %\n",
      "Incerteza relativa de r03 para c1 = 2.47 %\n"
     ]
    }
   ],
   "source": [
    "print('Incerteza relativa de r03 para c0 =', round(u_03[0]*100,2),'%')\n",
    "print('Incerteza relativa de r03 para c1 =', round(u_03[1]*100,2),'%')"
   ]
  },
  {
   "cell_type": "markdown",
   "id": "ac62f0e5-4ed1-4e2f-8583-db4b8413de35",
   "metadata": {},
   "source": [
    "### Condição de Distribuição Normal de 150°C e fixo 50 MPa. Condição 04"
   ]
  },
  {
   "cell_type": "code",
   "execution_count": 21,
   "id": "9ae3594e-15c4-4f6d-809e-f57de1f3e2e7",
   "metadata": {
    "tags": []
   },
   "outputs": [],
   "source": [
    "T0 = 100+273.15 # Temperature in Kelvin\n",
    "P4 = 50000    # Pressure in kPa\n",
    "# This function evaluating a normal samples of bounds of P and T values\n",
    "sigma = 0.01*T0 \n",
    "ns = 100\n",
    "mu = T0\n",
    "\n",
    "samples_n150_50 = (sorted(np.random.normal(mu,sigma,ns).tolist()))"
   ]
  },
  {
   "cell_type": "code",
   "execution_count": 34,
   "id": "50d66d34-a95e-440d-9d2b-856071948dcc",
   "metadata": {
    "tags": []
   },
   "outputs": [
    {
     "name": "stderr",
     "output_type": "stream",
     "text": [
      " 99%|███████████████████████████████████████████████████████████████████████████████████████████████████████████▉ | 99/100 [22:26<00:13, 13.60s/it]\n",
      " 99%|███████████████████████████████████████████████████████████████████████████████████████████████████████████▉ | 99/100 [24:05<00:14, 14.60s/it]\n"
     ]
    }
   ],
   "source": [
    "rho_n150_50 = [[] for _ in range(len(c))]\n",
    "\n",
    "# Evaluanting for each mixture\n",
    "for i in range(0,len(c)):\n",
    "    for j, tempo in zip(range(len(samples_n150_50)), tqdm(range(len(samples_n150_50)))):\n",
    "        rho_n150_50[i].append(GERG2008rho(c[i],P4,samples_n150_50[j]))"
   ]
  },
  {
   "cell_type": "code",
   "execution_count": 35,
   "id": "c259ed78-c48a-4b0d-8276-fb761b09f3cb",
   "metadata": {
    "tags": []
   },
   "outputs": [],
   "source": [
    "# Evaluating r\n",
    "r_04 = []\n",
    "for i in range(len(rho_standard)):\n",
    "    r_04.append( rho_n150_50[i]/rho_standard[i])\n",
    "\n",
    "# Evaluating u_r\n",
    "ur_04 = []\n",
    "for i in range(0,len(c)):\n",
    "    ur_04.append(np.std(r_04[i]))\n",
    "\n",
    "# Evaluating the uncertaninty portion with 95% confidence\n",
    "u_04 = []\n",
    "for i in range(0,len(c)):\n",
    "    u_04.append(((1.96*np.std(r_04[i]))/np.mean(r_04[i])))"
   ]
  },
  {
   "cell_type": "code",
   "execution_count": 36,
   "id": "6e385d3b-6858-4f32-80ef-35f27f13a08a",
   "metadata": {
    "tags": []
   },
   "outputs": [
    {
     "name": "stdout",
     "output_type": "stream",
     "text": [
      "Incerteza relativa de r04 para c0 = 1.71 %\n",
      "Incerteza relativa de r04 para c1 = 2.16 %\n"
     ]
    }
   ],
   "source": [
    "print('Incerteza relativa de r04 para c0 =', round(u_04[0]*100,2),'%')\n",
    "print('Incerteza relativa de r04 para c1 =', round(u_04[1]*100,2),'%')"
   ]
  },
  {
   "cell_type": "markdown",
   "id": "77860160-a977-40d1-ba05-25bc54f05d26",
   "metadata": {},
   "source": [
    "### Condição de Distribuição Normal de 150°C e fixo 60 MPa. Condição 05"
   ]
  },
  {
   "cell_type": "code",
   "execution_count": 37,
   "id": "34019dd3-0305-4b28-a78e-3dae3f016ca9",
   "metadata": {
    "tags": []
   },
   "outputs": [],
   "source": [
    "T0 = 100+273.15 # Temperature in Kelvin\n",
    "P5 = 60000    # Pressure in kPa\n",
    "# This function evaluating a normal samples of bounds of P and T values\n",
    "sigma = 0.01*T0 \n",
    "ns = 100\n",
    "mu = T0\n",
    "\n",
    "samples_n150_60 = (sorted(np.random.normal(mu,sigma,ns).tolist()))"
   ]
  },
  {
   "cell_type": "code",
   "execution_count": 38,
   "id": "ffaaed9d-e050-4057-95f8-8f57f7e05b51",
   "metadata": {
    "tags": []
   },
   "outputs": [
    {
     "name": "stderr",
     "output_type": "stream",
     "text": [
      " 99%|███████████████████████████████████████████████████████████████████████████████████████████████████████████▉ | 99/100 [20:25<00:12, 12.38s/it]\n",
      " 99%|███████████████████████████████████████████████████████████████████████████████████████████████████████████▉ | 99/100 [19:59<00:12, 12.12s/it]\n"
     ]
    }
   ],
   "source": [
    "rho_n150_60 = [[] for _ in range(len(c))]\n",
    "\n",
    "# Evaluanting for each mixture\n",
    "for i in range(0,len(c)):\n",
    "    for j, tempo in zip(range(len(samples_n150_60)), tqdm(range(len(samples_n150_60)))):\n",
    "        rho_n150_60[i].append(GERG2008rho(c[i],P4,samples_n150_60[j]))"
   ]
  },
  {
   "cell_type": "code",
   "execution_count": 39,
   "id": "8826a853-b942-4518-ab55-44f598381d41",
   "metadata": {
    "tags": []
   },
   "outputs": [],
   "source": [
    "# Evaluating r\n",
    "r_05 = []\n",
    "for i in range(len(rho_standard)):\n",
    "    r_05.append( rho_n150_60[i]/rho_standard[i])\n",
    "\n",
    "# Evaluating u_r\n",
    "ur_05 = []\n",
    "for i in range(0,len(c)):\n",
    "    ur_05.append(np.std(r_05[i]))\n",
    "\n",
    "# Evaluating the uncertaninty portion with 95% confidence\n",
    "u_05 = []\n",
    "for i in range(0,len(c)):\n",
    "    u_05.append(((1.96*np.std(r_05[i]))/np.mean(r_05[i])))"
   ]
  },
  {
   "cell_type": "code",
   "execution_count": 40,
   "id": "ee5f4e21-23b4-482d-8e31-6be87c102772",
   "metadata": {
    "tags": []
   },
   "outputs": [
    {
     "name": "stdout",
     "output_type": "stream",
     "text": [
      "Incerteza relativa de r04 para c0 = 1.83 %\n",
      "Incerteza relativa de r04 para c1 = 2.3 %\n"
     ]
    }
   ],
   "source": [
    "print('Incerteza relativa de r04 para c0 =', round(u_05[0]*100,2),'%')\n",
    "print('Incerteza relativa de r04 para c1 =', round(u_05[1]*100,2),'%')"
   ]
  },
  {
   "cell_type": "markdown",
   "id": "3dbd2d57-1c06-45cb-ac40-c84a59dece38",
   "metadata": {},
   "source": [
    "### Condição de Distribuição Normal de 150°C e fixo 70 MPa. Condição 06"
   ]
  },
  {
   "cell_type": "code",
   "execution_count": 41,
   "id": "afe59eda-00fd-46b3-93d0-2748b85dd6a2",
   "metadata": {
    "tags": []
   },
   "outputs": [],
   "source": [
    "T0 = 100+273.15 # Temperature in Kelvin\n",
    "P6 = 60000    # Pressure in kPa\n",
    "# This function evaluating a normal samples of bounds of P and T values\n",
    "sigma = 0.01*T0 \n",
    "ns = 100\n",
    "mu = T0\n",
    "\n",
    "samples_n150_70 = (sorted(np.random.normal(mu,sigma,ns).tolist()))"
   ]
  },
  {
   "cell_type": "code",
   "execution_count": 42,
   "id": "c47e29b1-c71b-4549-b45a-14d4250068b5",
   "metadata": {
    "tags": []
   },
   "outputs": [
    {
     "name": "stderr",
     "output_type": "stream",
     "text": [
      " 99%|███████████████████████████████████████████████████████████████████████████████████████████████████████████▉ | 99/100 [20:04<00:12, 12.16s/it]\n",
      " 99%|███████████████████████████████████████████████████████████████████████████████████████████████████████████▉ | 99/100 [20:07<00:12, 12.20s/it]\n"
     ]
    }
   ],
   "source": [
    "rho_n150_70 = [[] for _ in range(len(c))]\n",
    "\n",
    "# Evaluanting for each mixture\n",
    "for i in range(0,len(c)):\n",
    "    for j, tempo in zip(range(len(samples_n150_70)), tqdm(range(len(samples_n150_70)))):\n",
    "        rho_n150_70[i].append(GERG2008rho(c[i],P4,samples_n150_70[j]))"
   ]
  },
  {
   "cell_type": "code",
   "execution_count": 43,
   "id": "7962c0da-2c6f-4294-ad98-daa99029bb0b",
   "metadata": {
    "tags": []
   },
   "outputs": [],
   "source": [
    "# Evaluating r\n",
    "r_06 = []\n",
    "for i in range(len(rho_standard)):\n",
    "    r_06.append( rho_n150_70[i]/rho_standard[i])\n",
    "\n",
    "# Evaluating u_r\n",
    "ur_06 = []\n",
    "for i in range(0,len(c)):\n",
    "    ur_06.append(np.std(r_06[i]))\n",
    "\n",
    "# Evaluating the uncertaninty portion with 95% confidence\n",
    "u_06 = []\n",
    "for i in range(0,len(c)):\n",
    "    u_06.append(((1.96*np.std(r_06[i]))/np.mean(r_06[i])))"
   ]
  },
  {
   "cell_type": "code",
   "execution_count": 44,
   "id": "a0b52950-6327-4455-b542-66267fff7467",
   "metadata": {
    "tags": []
   },
   "outputs": [
    {
     "name": "stdout",
     "output_type": "stream",
     "text": [
      "Incerteza relativa de r04 para c0 = 1.64 %\n",
      "Incerteza relativa de r04 para c1 = 2.07 %\n"
     ]
    }
   ],
   "source": [
    "print('Incerteza relativa de r04 para c0 =', round(u_06[0]*100,2),'%')\n",
    "print('Incerteza relativa de r04 para c1 =', round(u_06[1]*100,2),'%')"
   ]
  },
  {
   "cell_type": "markdown",
   "id": "9c07fa66-164b-4334-8631-896caf44948f",
   "metadata": {
    "tags": []
   },
   "source": [
    "## Cálculo das médias e incertezas da massa específica"
   ]
  },
  {
   "cell_type": "code",
   "execution_count": 62,
   "id": "21f5f867-f69e-479c-aa0f-bf0712900a87",
   "metadata": {
    "tags": []
   },
   "outputs": [
    {
     "name": "stdout",
     "output_type": "stream",
     "text": [
      "c0 = 4.87 |||| c1 = 3.46\n",
      "c0 = 9.46 |||| c1 = 6.97\n",
      "c0 = 11.35 |||| c1 = 9.82\n",
      "c0 = 12.48 |||| c1 = 11.96\n",
      "c0 = 13.27 |||| c1 = 13.58\n",
      "c0 = 13.28 |||| c1 = 13.59\n",
      "c0 = 0.16 |||| c1 = 0.05\n",
      "c0 = 0.19 |||| c1 = 0.11\n",
      "c0 = 0.14 |||| c1 = 0.13\n",
      "c0 = 0.13 |||| c1 = 0.15\n",
      "c0 = 0.12 |||| c1 = 0.15\n",
      "c0 = 0.12 |||| c1 = 0.16\n",
      "c0 = 0.11 |||| c1 = 0.14\n"
     ]
    }
   ],
   "source": [
    "rho_n150_10_95 = [[],[]]\n",
    "\n",
    "for i in range(len(rho_n150_10)):\n",
    "    for j in range(len(rho_n150_10[i])):\n",
    "        if rho_n150_10[i][j] > (np.mean(rho_n150_10[i])-1.96*np.std(rho_n150_10[i])) or rho_n150_10[i][j] < (np.mean(rho_n150_10[i])+1.96*np.std(rho_n150_10[i])):\n",
    "            rho_n150_10_95[i].append(rho_n150_10[i][j])\n",
    "\n",
    "rho_n150_20_95 = [[],[]]\n",
    "\n",
    "for i in range(len(rho_n150_20)):\n",
    "    for j in range(len(rho_n150_20[i])):\n",
    "        if rho_n150_20[i][j] > (np.mean(rho_n150_20[i])-1.96*np.std(rho_n150_20[i])) or rho_n150_20[i][j] < (np.mean(rho_n150_20[i])+1.96*np.std(rho_n150_20[i])):\n",
    "            rho_n150_20_95[i].append(rho_n150_20[i][j])\n",
    "\n",
    "rho_n150_30_95 = [[],[]]\n",
    "\n",
    "for i in range(len(rho_n150_30)):\n",
    "    for j in range(len(rho_n150_30[i])):\n",
    "        if rho_n150_30[i][j] > (np.mean(rho_n150_30[i])-1.96*np.std(rho_n150_30[i])) or rho_n150_30[i][j] < (np.mean(rho_n150_30[i])+1.96*np.std(rho_n150_30[i])):\n",
    "            rho_n150_30_95[i].append(rho_n150_30[i][j])\n",
    "\n",
    "rho_n150_40_95 = [[],[]]\n",
    "\n",
    "for i in range(len(rho_n150_40)):\n",
    "    for j in range(len(rho_n150_40[i])):\n",
    "        if rho_n150_40[i][j] > (np.mean(rho_n150_40[i])-1.96*np.std(rho_n150_40[i])) or rho_n150_40[i][j] < (np.mean(rho_n150_40[i])+1.96*np.std(rho_n150_40[i])):\n",
    "            rho_n150_40_95[i].append(rho_n150_40[i][j])\n",
    "\n",
    "rho_n150_50_95 = [[],[]]\n",
    "\n",
    "for i in range(len(rho_n150_50)):\n",
    "    for j in range(len(rho_n150_50[i])):\n",
    "        if rho_n150_50[i][j] > (np.mean(rho_n150_50[i])-1.96*np.std(rho_n150_50[i])) or rho_n150_50[i][j] < (np.mean(rho_n150_50[i])+1.96*np.std(rho_n150_50[i])):\n",
    "            rho_n150_50_95[i].append(rho_n150_50[i][j])\n",
    "\n",
    "rho_n150_60_95 = [[],[]]\n",
    "\n",
    "for i in range(len(rho_n150_60)):\n",
    "    for j in range(len(rho_n150_60[i])):\n",
    "        if rho_n150_60[i][j] > (np.mean(rho_n150_60[i])-1.96*np.std(rho_n150_60[i])) or rho_n150_60[i][j] < (np.mean(rho_n150_60[i])+1.96*np.std(rho_n150_60[i])):\n",
    "            rho_n150_60_95[i].append(rho_n150_60[i][j])\n",
    "\n",
    "rho_n150_70_95 = [[],[]]\n",
    "\n",
    "for i in range(len(rho_n150_70)):\n",
    "    for j in range(len(rho_n150_70[i])):\n",
    "        if rho_n150_70[i][j] > (np.mean(rho_n150_70[i])-1.96*np.std(rho_n150_70[i])) or rho_n150_70[i][j] < (np.mean(rho_n150_70[i])+1.96*np.std(rho_n150_70[i])):\n",
    "            rho_n150_70_95[i].append(rho_n150_70[i][j])"
   ]
  },
  {
   "cell_type": "code",
   "execution_count": null,
   "id": "8f0e750d-c3f5-4355-8c41-74eb28cd5c47",
   "metadata": {},
   "outputs": [],
   "source": []
  }
 ],
 "metadata": {
  "kernelspec": {
   "display_name": "Python 3 (ipykernel)",
   "language": "python",
   "name": "python3"
  },
  "language_info": {
   "codemirror_mode": {
    "name": "ipython",
    "version": 3
   },
   "file_extension": ".py",
   "mimetype": "text/x-python",
   "name": "python",
   "nbconvert_exporter": "python",
   "pygments_lexer": "ipython3",
   "version": "3.10.9"
  }
 },
 "nbformat": 4,
 "nbformat_minor": 5
}
