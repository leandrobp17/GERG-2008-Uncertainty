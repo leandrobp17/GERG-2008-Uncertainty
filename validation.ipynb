{
 "cells": [
  {
   "cell_type": "markdown",
   "id": "97a9098c-2e85-498d-a843-b017dc0545fb",
   "metadata": {},
   "source": [
    "# Validation Notebook"
   ]
  },
  {
   "cell_type": "code",
   "execution_count": 2,
   "id": "af0154f7-a846-4b81-9a7d-e3c090da582c",
   "metadata": {
    "tags": []
   },
   "outputs": [],
   "source": [
    "# Essencials modules\n",
    "from GERG2008rho import GERG2008rho # this function is the GERG-2008 to vapor fase for evalute density\n",
    "import numpy as np"
   ]
  },
  {
   "cell_type": "markdown",
   "id": "fe8f4ed0-77a9-4c90-babe-f41ff4e1d449",
   "metadata": {},
   "source": [
    "## Mixtures:\n",
    "c0 → Metane\n",
    "\n",
    "c1 → Composition 1\n",
    "\n",
    "c2 → Composition 2"
   ]
  },
  {
   "cell_type": "code",
   "execution_count": 4,
   "id": "89cc93b6-c502-4ef8-a055-7f6056c069de",
   "metadata": {
    "tags": []
   },
   "outputs": [],
   "source": [
    "# Molar composition\n",
    "c = np.zeros((3,21))\n",
    "\n",
    "# Mixture c0\n",
    "c[0][0 ] = 1.00000        # Methane\n",
    "\n",
    "\n",
    "# Mixture c1\n",
    "c[1][0 ] = 0.89650        # Methane\n",
    "c[1][1 ] = 0.00760        # Nitrogen\n",
    "c[1][2 ] = 0.00335        # CO2\n",
    "c[1][3 ] = 0.06850        # Ethane\n",
    "c[1][4 ] = 0.02350        # Propane\n",
    "c[1][15] = 0.00055        # Oxygen\n",
    "\n",
    "# Mixture c2\n",
    "c[2][0 ] = 0.78500        # Methane\n",
    "c[2][1 ] = 0.02200        # Nitrogen\n",
    "c[2][2 ] = 0.01600        # CO2\n",
    "c[2][3 ] = 0.10800        # Ethane\n",
    "c[2][4 ] = 0.06750        # Propane\n",
    "c[2][15] = 0.00150        # Oxygen"
   ]
  },
  {
   "cell_type": "code",
   "execution_count": 3,
   "id": "dbe3503f-7543-45b3-a9ba-559ddd1d30ca",
   "metadata": {
    "tags": []
   },
   "outputs": [],
   "source": [
    "# Molar composition\n",
    "c = np.zeros((2,21))\n",
    "\n",
    "# Multicomponents mixture from Baladão's dissertation.\n",
    "# Mixture N1 → c0\n",
    "c[0][0 ] = 0.34242        # Methane\n",
    "c[0][1 ] = 0.00000        # Nitrogen\n",
    "c[0][2 ] = 0.00000        # CO2\n",
    "c[0][3 ] = 0.31372        # Ethane\n",
    "c[0][4 ] = 0.34386        # Propane\n",
    "c[0][5 ] = 0.00000        # Isobutane\n",
    "c[0][6 ] = 0.00000        # Butane\n",
    "c[0][7 ] = 0.00000        # Isopentane\n",
    "c[0][8 ] = 0.00000        # Pentane\n",
    "c[0][9 ] = 0.00000        # Hexane\n",
    "c[0][10] = 0.00000        # Heptane\n",
    "c[0][11] = 0.00000        # Octane\n",
    "c[0][12] = 0.00000        # Nonane\n",
    "c[0][13] = 0.00000        # Decane\n",
    "c[0][14] = 0.00000        # Hydrogen\n",
    "c[0][15] = 0.00000        # Oxygen\n",
    "c[0][16] = 0.00000        # CO\n",
    "c[0][17] = 0.00000        # Water\n",
    "c[0][18] = 0.00000        # H2S\n",
    "c[0][19] = 0.00000        # Helium\n",
    "c[0][20] = 0.00000        # Argon\n",
    "\n",
    "# Mixture N2 → c1\n",
    "c[1][0 ] = 0.85260        # Methane\n",
    "c[1][1 ] = 0.04840        # Nitrogen\n",
    "c[1][2 ] = 0.00000        # CO2\n",
    "c[1][3 ] = 0.04830        # Ethane\n",
    "c[1][4 ] = 0.05070        # Propane\n",
    "c[1][5 ] = 0.00000        # Isobutane\n",
    "c[1][6 ] = 0.00000        # Butane\n",
    "c[1][7 ] = 0.00000        # Isopentane\n",
    "c[1][8 ] = 0.00000        # Pentane\n",
    "c[1][9 ] = 0.00000        # Hexane\n",
    "c[1][10] = 0.00000        # Heptane\n",
    "c[1][11] = 0.00000        # Octane\n",
    "c[1][12] = 0.00000        # Nonane\n",
    "c[1][13] = 0.00000        # Decane\n",
    "c[1][14] = 0.00000        # Hydrogen\n",
    "c[1][15] = 0.00000        # Oxygen\n",
    "c[1][16] = 0.00000        # CO\n",
    "c[1][17] = 0.00000        # Water\n",
    "c[1][18] = 0.00000        # H2S\n",
    "c[1][19] = 0.00000        # Helium\n",
    "c[1][20] = 0.00000        # Argon"
   ]
  },
  {
   "cell_type": "markdown",
   "id": "4bad259c-e736-4bf8-992e-2235861e51cc",
   "metadata": {},
   "source": [
    "## Simulation conditions\n",
    "\n",
    "Condition 1:\n",
    "\n",
    "20°C → 293.15 K\n",
    "\n",
    "1 bar → 100 kPa\n",
    "\n",
    "\n",
    "Condition 2:\n",
    "\n",
    "4°C → 279.15 K\n",
    "\n",
    "50 bar → 5000 kPa\n",
    "\n"
   ]
  },
  {
   "cell_type": "code",
   "execution_count": 4,
   "id": "143b061b-a306-4595-b0f3-23fc588edd01",
   "metadata": {
    "tags": []
   },
   "outputs": [],
   "source": [
    "# Temperature\n",
    "T = [293.15]#, 279.15]\n",
    "\n",
    "# Pressure\n",
    "P = [101.325]#, 5000]"
   ]
  },
  {
   "cell_type": "markdown",
   "id": "bc7ce706-0113-470f-9c55-efd530253d09",
   "metadata": {},
   "source": [
    "## Evaluanting Densities"
   ]
  },
  {
   "cell_type": "code",
   "execution_count": 6,
   "id": "b517e910-ca0e-4982-ad7e-558d7066f5ae",
   "metadata": {
    "tags": []
   },
   "outputs": [],
   "source": [
    "rho = np.zeros((2,1))\n",
    "\n",
    "for i in range(len(c)):\n",
    "    for j in range(0,1):\n",
    "        rho[i][j] = GERG2008rho(c[i],P[j],T[j])"
   ]
  },
  {
   "cell_type": "code",
   "execution_count": 7,
   "id": "11e7ccf3-bcc9-4c84-aad3-d548eb11d935",
   "metadata": {
    "tags": []
   },
   "outputs": [
    {
     "data": {
      "text/plain": [
       "array([[0.04189683],\n",
       "       [0.04166929]])"
      ]
     },
     "execution_count": 7,
     "metadata": {},
     "output_type": "execute_result"
    }
   ],
   "source": [
    "rho # mol/l"
   ]
  },
  {
   "cell_type": "markdown",
   "id": "23b10c50-48e2-41e3-addc-e77c9365c293",
   "metadata": {},
   "source": [
    "### Densities for each component\n",
    "\n",
    "Metano: 16.0425 g/mol\n",
    "\n",
    "Nitrogen: 28.0134 g/mol\n",
    "\n",
    "CO2: 44.0095 g/mol\n",
    "\n",
    "Ethane: 30.0690 g/mol\n",
    "\n",
    "Propane: 44.0956 g/mol\n",
    "\n",
    "Oxygen: 31.9988 g/mol"
   ]
  },
  {
   "cell_type": "code",
   "execution_count": 9,
   "id": "7e2cafae-ba98-4f6f-9fc7-d4ec3c3853d5",
   "metadata": {
    "tags": []
   },
   "outputs": [],
   "source": [
    "molarmass = np.zeros(21)\n",
    "\n",
    "molarmass[0 ] = 16.0425        # Methane\n",
    "molarmass[1 ] = 28.0134        # Nitrogen\n",
    "molarmass[2 ] = 44.0095        # CO2\n",
    "molarmass[3 ] = 30.0690        # Ethane\n",
    "molarmass[4 ] = 44.0956        # Propane\n",
    "molarmass[15] = 31.9988        # Oxygen"
   ]
  },
  {
   "cell_type": "code",
   "execution_count": 11,
   "id": "dd149362-251a-4611-aab2-3af36c0b797f",
   "metadata": {
    "tags": []
   },
   "outputs": [],
   "source": [
    "c_molarmass = np.zeros(3)\n",
    "aux = np.zeros(21)\n",
    "\n",
    "for i in range(0,3):\n",
    "    for j in range(len(molarmass)):\n",
    "        aux[j] = c[i][j]*molarmass[j]\n",
    "    \n",
    "    c_molarmass[i] = sum (aux)"
   ]
  },
  {
   "cell_type": "code",
   "execution_count": 12,
   "id": "bce79108-1eb9-402c-bf7a-be3802522181",
   "metadata": {
    "tags": []
   },
   "outputs": [
    {
     "data": {
      "text/plain": [
       "array([16.0425    , 17.85600735, 20.1857125 ])"
      ]
     },
     "execution_count": 12,
     "metadata": {},
     "output_type": "execute_result"
    }
   ],
   "source": [
    "c_molarmass # g/mol"
   ]
  },
  {
   "cell_type": "code",
   "execution_count": 41,
   "id": "8855d116-c733-40cd-aae6-a58287dfeed2",
   "metadata": {
    "tags": []
   },
   "outputs": [],
   "source": [
    "rho_comp = [[] for _ in range(0,3)] # kg/m³\n",
    "\n",
    "for i in range(0,3):\n",
    "    for j in range(0,2):\n",
    "        rho_comp[i].append( rho[i][j]*c_molarmass[i])"
   ]
  },
  {
   "cell_type": "code",
   "execution_count": 42,
   "id": "645e8cf0-bb3f-40c6-b6b6-3280e1933065",
   "metadata": {
    "tags": []
   },
   "outputs": [
    {
     "data": {
      "text/plain": [
       "[[0.6593945377861755, 38.70372096363865],\n",
       " [0.7342722549972047, 44.59263831381752],\n",
       " [0.8305345445654618, 52.811049166773664]]"
      ]
     },
     "execution_count": 42,
     "metadata": {},
     "output_type": "execute_result"
    }
   ],
   "source": [
    "rho_comp"
   ]
  },
  {
   "cell_type": "markdown",
   "id": "c073a97d-1b8d-415a-8411-cb2f484b13df",
   "metadata": {},
   "source": [
    "## Comparison\n",
    "REPROP - NIST DATA\n",
    "\n",
    "c0:\n",
    "\n",
    "Condition 1: 0.6594 kg/m³\n",
    "\n",
    "Condition 2: 39.1160 kg/m³\n",
    "\n",
    "c1:\n",
    "\n",
    "Condition 1: 0.6961 kg/m³\n",
    "\n",
    "Condition 2: 41.9500 kg/m³\n",
    "\n",
    "c2:\n",
    "\n",
    "Condition 1: 0.7443 kg/m³\n",
    "\n",
    "Condition 2: 45.7680 kg/m³"
   ]
  },
  {
   "cell_type": "code",
   "execution_count": 43,
   "id": "2df19ac5-ea01-4c39-9ca1-b5a753e71f03",
   "metadata": {
    "tags": []
   },
   "outputs": [],
   "source": [
    "rho_refprop = [[0.6594,39.1160],\n",
    "               [0.6961,41.9500],\n",
    "               [0.7443,45.7680]]"
   ]
  },
  {
   "cell_type": "code",
   "execution_count": 46,
   "id": "9cca1990-dacf-43e5-91e8-30a1327c9ae9",
   "metadata": {
    "tags": []
   },
   "outputs": [],
   "source": [
    "comp = np.zeros((3,2))\n",
    "for i in range(0,3):\n",
    "    for j in range(0,2):\n",
    "        comp[i][j] = ((rho_comp[i][j]/rho_refprop[i][j])-1)*100"
   ]
  },
  {
   "cell_type": "code",
   "execution_count": 49,
   "id": "4a1a8f96-1be0-48c4-be97-2aaef33ac9b8",
   "metadata": {
    "tags": []
   },
   "outputs": [
    {
     "data": {
      "text/plain": [
       "[[-0.0008283612108694882, -1.053990787302761],\n",
       " [5.483731503692679, 6.299495384547105],\n",
       " [11.585992820833258, 15.388588460875852]]"
      ]
     },
     "execution_count": 49,
     "metadata": {},
     "output_type": "execute_result"
    }
   ],
   "source": [
    "comp = comp.tolist()\n",
    "comp"
   ]
  }
 ],
 "metadata": {
  "kernelspec": {
   "display_name": "Python 3 (ipykernel)",
   "language": "python",
   "name": "python3"
  },
  "language_info": {
   "codemirror_mode": {
    "name": "ipython",
    "version": 3
   },
   "file_extension": ".py",
   "mimetype": "text/x-python",
   "name": "python",
   "nbconvert_exporter": "python",
   "pygments_lexer": "ipython3",
   "version": "3.10.9"
  }
 },
 "nbformat": 4,
 "nbformat_minor": 5
}
